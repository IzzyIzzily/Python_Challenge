{
 "cells": [
  {
   "cell_type": "markdown",
   "metadata": {},
   "source": [
    "<img src=\"http://imgur.com/1ZcRyrc.png\" style=\"float: left; margin: 20px; height: 15px\">\n",
    "\n",
    "# Project 1: Python Coding Exercises\n",
    "\n",
    "\n",
    "\n",
    "---"
   ]
  },
  {
   "cell_type": "markdown",
   "metadata": {},
   "source": [
    "The following code challenges are drawn from common exercises used in technical interviews.\n",
    "\n",
    "Please note that there may be several ways to approach each challenge. If you get stuck, try mapping out your approach in pseudocode first. Finally, while solutions to problems like these may be found online, remember that if you copy/paste code that you can't explain, you'll be missing out on the point of the project. The only way to truly learn a new skill is through practice, trial, and error - we can only help you improve by understanding where you are having trouble."
   ]
  },
  {
   "cell_type": "markdown",
   "metadata": {},
   "source": [
    "### Challenge 1: Largest Palindrome\n",
    "A palindromic number reads the same both ways. For example, 1234321 is a palindrome. The largest palindrome made from the product of two two-digit numbers is 9009 = 91 × 99. Find the largest palindrome made from the product of two three-digit numbers. Afterward, write a brief explanation walking through your code's logic in markdown."
   ]
  },
  {
   "cell_type": "code",
   "execution_count": 1,
   "metadata": {},
   "outputs": [],
   "source": [
    "def check_palindrome(number):\n",
    "    \"\"\"\n",
    "    return True if a number is palindrome\n",
    "    \"\"\"\n",
    "    \n",
    "    ln = len(str(number))\n",
    "    test_n = number\n",
    "    rev_n = 0\n",
    "    \n",
    "    # reverse the number by looping through all digits of given number\n",
    "    for i in range(1,ln+1):   \n",
    "        rev_n += (test_n % 10) * 10**(len(str(test_n))-1)     \n",
    "        test_n = test_n // 10\n",
    "    \n",
    "    # if reversed number equals to original number, it is palindrome number     \n",
    "    if number == rev_n:\n",
    "        return True\n"
   ]
  },
  {
   "cell_type": "code",
   "execution_count": 2,
   "metadata": {},
   "outputs": [],
   "source": [
    "# get 3-digit numbers --> range(100,1000)\n",
    "\n",
    "pal_list = []\n",
    "for x in range(100,1000):\n",
    "    # multiply 2 numbers \n",
    "    for y in range(x,1000):\n",
    "        product = x * y\n",
    "        # check and append list if pro is palindrome\n",
    "        if check_palindrome(product):\n",
    "            pal_list.append(product)"
   ]
  },
  {
   "cell_type": "code",
   "execution_count": 3,
   "metadata": {},
   "outputs": [
    {
     "data": {
      "text/plain": [
       "906609"
      ]
     },
     "execution_count": 3,
     "metadata": {},
     "output_type": "execute_result"
    }
   ],
   "source": [
    "max(pal_list)"
   ]
  },
  {
   "cell_type": "markdown",
   "metadata": {},
   "source": [
    "\n",
    "### Challenge 2: Summation of Primes\n",
    "The sum of the primes below 10 is 2 + 3 + 5 + 7 = 17. Find the sum of all the primes below 2,000. Afterward, write a brief explanation walking through your code's logic in markdown."
   ]
  },
  {
   "cell_type": "code",
   "execution_count": 3,
   "metadata": {},
   "outputs": [],
   "source": [
    "def sum_primes(number):\n",
    "    \"\"\"\n",
    "    primes is a number that is divisible only by itself and 1 (e.g. 2, 3, 5, 7, 11)\n",
    "    return sum of all prime numbers below the given number\n",
    "    \"\"\"\n",
    "    \n",
    "    # initialise a variable  \n",
    "    # 2 is the smallest and unique prime which will be ignored by below loop \n",
    "    sum_of_primes = 2\n",
    "    \n",
    "    for n in range(3, number + 1):\n",
    "        # only need to loop through numbers that are smaller than n\n",
    "        # excludes 1 and n itself\n",
    "        for i in range(2, n):\n",
    "            # once ditect n is dividable by i, n is not prime\n",
    "            # assign n to value 0 or i            \n",
    "            # break the loop              \n",
    "            if n % i == 0:\n",
    "                n = 0\n",
    "                break\n",
    "                \n",
    "        # only if the loop did not break, add up primes           \n",
    "        if n != 0:\n",
    "            sum_of_primes += n\n",
    "            \n",
    "    return sum_of_primes"
   ]
  },
  {
   "cell_type": "code",
   "execution_count": 4,
   "metadata": {},
   "outputs": [
    {
     "data": {
      "text/plain": [
       "277050"
      ]
     },
     "execution_count": 4,
     "metadata": {},
     "output_type": "execute_result"
    }
   ],
   "source": [
    "sum_primes(2000)"
   ]
  },
  {
   "cell_type": "markdown",
   "metadata": {},
   "source": [
    "### Challenge 3: Multiples of 3 and 5\n",
    "If we list all of the natural numbers below 10 that are multiples of 3 or 5, we get 3, 5, 6, and 9. The sum of these multiples is 23. Find the sum of all the multiples of 3 and 5 below 1,000. Afterward, write a brief explanation walking through your code's logic in markdown."
   ]
  },
  {
   "cell_type": "code",
   "execution_count": 6,
   "metadata": {},
   "outputs": [
    {
     "data": {
      "text/plain": [
       "233168"
      ]
     },
     "execution_count": 6,
     "metadata": {},
     "output_type": "execute_result"
    }
   ],
   "source": [
    "# loop through numbers under 1000\n",
    "# check if numbers are dividable by 3 or 5\n",
    "# add to list\n",
    "\n",
    "targets = [num for num in range(1,1000) if num % 3 == 0 or num % 5 == 0]\n",
    "\n",
    "sum(targets)"
   ]
  },
  {
   "cell_type": "markdown",
   "metadata": {},
   "source": [
    "### Challenge 4: String Compressor\n",
    "Implement a method to perform basic string compression using the counts of repeated characters. (This is called run-length encoding.) For example, the string \"aabcccccaaa\" would become a2b1c5a3. If the “compressed” string would not become smaller than the original string, your method should return the original string. You can assume the string has only uppercase and lowercase letters (a–z). Specify whether your solution is case sensitive or case insensitive and what you would need to change to make it the other. Afterward, write a brief explanation walking through your code's logic in markdown."
   ]
  },
  {
   "cell_type": "code",
   "execution_count": 5,
   "metadata": {},
   "outputs": [],
   "source": [
    "# case sensitive\n",
    "def string_compressor(string):\n",
    "    \"\"\"\n",
    "    return a string using the counts of repeated characters\n",
    "    \"\"\"\n",
    "    \n",
    "    # initiate new string with the very first character and its count\n",
    "    # initiate a variable to store the count of character\n",
    "    count = 1\n",
    "    new_string = string[0] + str(count)\n",
    "    \n",
    "    # loop through each character in original string by index     \n",
    "    for idx in range(1,len(string)):\n",
    "        # check if the char is equal to the one before it\n",
    "        # append new string with the pair of the char and its count \n",
    "        # if same char detected, remove last appended pair in the new string           \n",
    "        if string[idx] == string[idx-1]:\n",
    "            count += 1\n",
    "            new_string = new_string[:-2] + string[idx] + str(count)\n",
    "        else:\n",
    "            count = 1\n",
    "            new_string = new_string + string[idx] + str(count)\n",
    "            \n",
    "    # check if new string is smaller than original string\n",
    "    # if not, return original string    \n",
    "    if len(string) >= len(new_string):\n",
    "        return new_string\n",
    "    else:\n",
    "        return string"
   ]
  },
  {
   "cell_type": "code",
   "execution_count": 6,
   "metadata": {},
   "outputs": [
    {
     "data": {
      "text/plain": [
       "'A'"
      ]
     },
     "execution_count": 6,
     "metadata": {},
     "output_type": "execute_result"
    }
   ],
   "source": [
    "string = 'A'\n",
    "string_compressor(string)"
   ]
  },
  {
   "cell_type": "code",
   "execution_count": 9,
   "metadata": {},
   "outputs": [
    {
     "data": {
      "text/plain": [
       "'a2b1c5a3'"
      ]
     },
     "execution_count": 9,
     "metadata": {},
     "output_type": "execute_result"
    }
   ],
   "source": [
    "string_test = 'aabcccccaaa'\n",
    "string_compressor(string_test)"
   ]
  },
  {
   "cell_type": "code",
   "execution_count": 10,
   "metadata": {},
   "outputs": [],
   "source": [
    "# case insensitive\n",
    "def string_compressor_insensitive(string):\n",
    "    \"\"\"\n",
    "    return a string using the counts of repeated characters\n",
    "    ignore capitals\n",
    "    \"\"\"\n",
    "    \n",
    "    # convert the string lowercase     \n",
    "    lower_string = string.lower()\n",
    "    count = 1\n",
    "    new_string = lower_string[0] + str(count)\n",
    "\n",
    "    for idx in range(1,len(string)):\n",
    "        if lower_string[idx] == lower_string[idx-1]:\n",
    "            count += 1\n",
    "            new_string = new_string[:-2] + lower_string[idx] + str(count)\n",
    "        else:\n",
    "            count = 1\n",
    "            new_string = new_string + lower_string[idx] + str(count)\n",
    "    \n",
    "    if len(string) >= len(new_string):\n",
    "        return new_string\n",
    "    else:\n",
    "        return string"
   ]
  },
  {
   "cell_type": "code",
   "execution_count": 11,
   "metadata": {},
   "outputs": [
    {
     "data": {
      "text/plain": [
       "'a2b2c7a2'"
      ]
     },
     "execution_count": 11,
     "metadata": {},
     "output_type": "execute_result"
    }
   ],
   "source": [
    "string_compressor_insensitive(string)"
   ]
  },
  {
   "cell_type": "code",
   "execution_count": 12,
   "metadata": {},
   "outputs": [
    {
     "data": {
      "text/plain": [
       "'a2b1c5a3'"
      ]
     },
     "execution_count": 12,
     "metadata": {},
     "output_type": "execute_result"
    }
   ],
   "source": [
    "string_compressor_insensitive(string_test)"
   ]
  },
  {
   "cell_type": "markdown",
   "metadata": {},
   "source": [
    "### Challenge 5: File Handling\n",
    "\n",
    "##### Part - 1\n",
    "Read the file named 'Diabetes.csv' available in the project folder.\n"
   ]
  },
  {
   "cell_type": "code",
   "execution_count": 13,
   "metadata": {},
   "outputs": [],
   "source": [
    "import pandas as pd"
   ]
  },
  {
   "cell_type": "code",
   "execution_count": 14,
   "metadata": {},
   "outputs": [],
   "source": [
    "# take the 4th row as columns\n",
    "diabetes = pd.read_csv('./Diabetes.csv', header = 4)"
   ]
  },
  {
   "cell_type": "code",
   "execution_count": 15,
   "metadata": {},
   "outputs": [
    {
     "data": {
      "text/html": [
       "<div>\n",
       "<style scoped>\n",
       "    .dataframe tbody tr th:only-of-type {\n",
       "        vertical-align: middle;\n",
       "    }\n",
       "\n",
       "    .dataframe tbody tr th {\n",
       "        vertical-align: top;\n",
       "    }\n",
       "\n",
       "    .dataframe thead th {\n",
       "        text-align: right;\n",
       "    }\n",
       "</style>\n",
       "<table border=\"1\" class=\"dataframe\">\n",
       "  <thead>\n",
       "    <tr style=\"text-align: right;\">\n",
       "      <th></th>\n",
       "      <th>diabetes</th>\n",
       "      <th>times_pregnant</th>\n",
       "      <th>glucose_conc</th>\n",
       "      <th>diastolic_BP</th>\n",
       "      <th>triceps_thk</th>\n",
       "      <th>2_hr_insulin</th>\n",
       "      <th>bmi</th>\n",
       "      <th>pedigree</th>\n",
       "      <th>age</th>\n",
       "      <th>Unnamed: 9</th>\n",
       "      <th>Unnamed: 10</th>\n",
       "      <th>Unnamed: 11</th>\n",
       "      <th>Unnamed: 12</th>\n",
       "      <th>Unnamed: 13</th>\n",
       "      <th>Unnamed: 14</th>\n",
       "    </tr>\n",
       "  </thead>\n",
       "  <tbody>\n",
       "    <tr>\n",
       "      <th>0</th>\n",
       "      <td>0</td>\n",
       "      <td>1</td>\n",
       "      <td>85</td>\n",
       "      <td>66</td>\n",
       "      <td>29</td>\n",
       "      <td>0</td>\n",
       "      <td>26.6</td>\n",
       "      <td>0.351</td>\n",
       "      <td>31</td>\n",
       "      <td>Person2</td>\n",
       "      <td>NaN</td>\n",
       "      <td>NaN</td>\n",
       "      <td>NaN</td>\n",
       "      <td>NaN</td>\n",
       "      <td>NaN</td>\n",
       "    </tr>\n",
       "    <tr>\n",
       "      <th>1</th>\n",
       "      <td>1</td>\n",
       "      <td>8</td>\n",
       "      <td>183</td>\n",
       "      <td>64</td>\n",
       "      <td>0</td>\n",
       "      <td>0</td>\n",
       "      <td>23.3</td>\n",
       "      <td>0.672</td>\n",
       "      <td>32</td>\n",
       "      <td>NaN</td>\n",
       "      <td>NaN</td>\n",
       "      <td>51</td>\n",
       "      <td>NaN</td>\n",
       "      <td>NaN</td>\n",
       "      <td>NaN</td>\n",
       "    </tr>\n",
       "    <tr>\n",
       "      <th>2</th>\n",
       "      <td>0</td>\n",
       "      <td>1</td>\n",
       "      <td>89</td>\n",
       "      <td>66</td>\n",
       "      <td>23</td>\n",
       "      <td>94</td>\n",
       "      <td>28.1</td>\n",
       "      <td>0.167</td>\n",
       "      <td>21</td>\n",
       "      <td>NaN</td>\n",
       "      <td>Target(y/n)</td>\n",
       "      <td>NaN</td>\n",
       "      <td>NaN</td>\n",
       "      <td>NaN</td>\n",
       "      <td>NaN</td>\n",
       "    </tr>\n",
       "    <tr>\n",
       "      <th>3</th>\n",
       "      <td>1</td>\n",
       "      <td>0</td>\n",
       "      <td>137</td>\n",
       "      <td>40</td>\n",
       "      <td>35</td>\n",
       "      <td>168</td>\n",
       "      <td>43.1</td>\n",
       "      <td>2.288</td>\n",
       "      <td>33</td>\n",
       "      <td>NaN</td>\n",
       "      <td>Y</td>\n",
       "      <td>Supervised</td>\n",
       "      <td>Discrete (Y/N</td>\n",
       "      <td>NaN</td>\n",
       "      <td>NaN</td>\n",
       "    </tr>\n",
       "    <tr>\n",
       "      <th>4</th>\n",
       "      <td>0</td>\n",
       "      <td>5</td>\n",
       "      <td>116</td>\n",
       "      <td>74</td>\n",
       "      <td>0</td>\n",
       "      <td>0</td>\n",
       "      <td>25.6</td>\n",
       "      <td>0.201</td>\n",
       "      <td>30</td>\n",
       "      <td>NaN</td>\n",
       "      <td>NaN</td>\n",
       "      <td>NaN</td>\n",
       "      <td>NaN</td>\n",
       "      <td>Y</td>\n",
       "      <td>Classification</td>\n",
       "    </tr>\n",
       "  </tbody>\n",
       "</table>\n",
       "</div>"
      ],
      "text/plain": [
       "   diabetes  times_pregnant  glucose_conc  diastolic_BP  triceps_thk  \\\n",
       "0         0               1            85            66           29   \n",
       "1         1               8           183            64            0   \n",
       "2         0               1            89            66           23   \n",
       "3         1               0           137            40           35   \n",
       "4         0               5           116            74            0   \n",
       "\n",
       "   2_hr_insulin   bmi  pedigree  age Unnamed: 9  Unnamed: 10 Unnamed: 11  \\\n",
       "0             0  26.6     0.351   31    Person2          NaN         NaN   \n",
       "1             0  23.3     0.672   32        NaN          NaN          51   \n",
       "2            94  28.1     0.167   21        NaN  Target(y/n)         NaN   \n",
       "3           168  43.1     2.288   33        NaN            Y  Supervised   \n",
       "4             0  25.6     0.201   30        NaN          NaN         NaN   \n",
       "\n",
       "     Unnamed: 12 Unnamed: 13     Unnamed: 14  \n",
       "0            NaN         NaN             NaN  \n",
       "1            NaN         NaN             NaN  \n",
       "2            NaN         NaN             NaN  \n",
       "3  Discrete (Y/N         NaN             NaN  \n",
       "4            NaN           Y  Classification  "
      ]
     },
     "execution_count": 15,
     "metadata": {},
     "output_type": "execute_result"
    }
   ],
   "source": [
    "# inspect the dataframe\n",
    "diabetes.head()"
   ]
  },
  {
   "cell_type": "code",
   "execution_count": 16,
   "metadata": {},
   "outputs": [
    {
     "name": "stdout",
     "output_type": "stream",
     "text": [
      "<class 'pandas.core.frame.DataFrame'>\n",
      "RangeIndex: 767 entries, 0 to 766\n",
      "Data columns (total 15 columns):\n",
      " #   Column          Non-Null Count  Dtype  \n",
      "---  ------          --------------  -----  \n",
      " 0   diabetes        767 non-null    int64  \n",
      " 1   times_pregnant  767 non-null    int64  \n",
      " 2   glucose_conc    767 non-null    int64  \n",
      " 3   diastolic_BP    767 non-null    int64  \n",
      " 4   triceps_thk     767 non-null    int64  \n",
      " 5   2_hr_insulin    767 non-null    int64  \n",
      " 6   bmi             767 non-null    float64\n",
      " 7   pedigree        767 non-null    float64\n",
      " 8   age             767 non-null    int64  \n",
      " 9   Unnamed: 9      1 non-null      object \n",
      " 10  Unnamed: 10     3 non-null      object \n",
      " 11  Unnamed: 11     3 non-null      object \n",
      " 12  Unnamed: 12     4 non-null      object \n",
      " 13  Unnamed: 13     2 non-null      object \n",
      " 14  Unnamed: 14     2 non-null      object \n",
      "dtypes: float64(2), int64(7), object(6)\n",
      "memory usage: 90.0+ KB\n"
     ]
    }
   ],
   "source": [
    "diabetes.info()"
   ]
  },
  {
   "cell_type": "code",
   "execution_count": 17,
   "metadata": {},
   "outputs": [],
   "source": [
    "# drop columns 9 and onwards\n",
    "diabetes = diabetes.iloc[:, :9]"
   ]
  },
  {
   "cell_type": "code",
   "execution_count": 18,
   "metadata": {},
   "outputs": [
    {
     "data": {
      "text/html": [
       "<div>\n",
       "<style scoped>\n",
       "    .dataframe tbody tr th:only-of-type {\n",
       "        vertical-align: middle;\n",
       "    }\n",
       "\n",
       "    .dataframe tbody tr th {\n",
       "        vertical-align: top;\n",
       "    }\n",
       "\n",
       "    .dataframe thead th {\n",
       "        text-align: right;\n",
       "    }\n",
       "</style>\n",
       "<table border=\"1\" class=\"dataframe\">\n",
       "  <thead>\n",
       "    <tr style=\"text-align: right;\">\n",
       "      <th></th>\n",
       "      <th>diabetes</th>\n",
       "      <th>times_pregnant</th>\n",
       "      <th>glucose_conc</th>\n",
       "      <th>diastolic_BP</th>\n",
       "      <th>triceps_thk</th>\n",
       "      <th>2_hr_insulin</th>\n",
       "      <th>bmi</th>\n",
       "      <th>pedigree</th>\n",
       "      <th>age</th>\n",
       "    </tr>\n",
       "  </thead>\n",
       "  <tbody>\n",
       "    <tr>\n",
       "      <th>0</th>\n",
       "      <td>0</td>\n",
       "      <td>1</td>\n",
       "      <td>85</td>\n",
       "      <td>66</td>\n",
       "      <td>29</td>\n",
       "      <td>0</td>\n",
       "      <td>26.6</td>\n",
       "      <td>0.351</td>\n",
       "      <td>31</td>\n",
       "    </tr>\n",
       "    <tr>\n",
       "      <th>1</th>\n",
       "      <td>1</td>\n",
       "      <td>8</td>\n",
       "      <td>183</td>\n",
       "      <td>64</td>\n",
       "      <td>0</td>\n",
       "      <td>0</td>\n",
       "      <td>23.3</td>\n",
       "      <td>0.672</td>\n",
       "      <td>32</td>\n",
       "    </tr>\n",
       "    <tr>\n",
       "      <th>2</th>\n",
       "      <td>0</td>\n",
       "      <td>1</td>\n",
       "      <td>89</td>\n",
       "      <td>66</td>\n",
       "      <td>23</td>\n",
       "      <td>94</td>\n",
       "      <td>28.1</td>\n",
       "      <td>0.167</td>\n",
       "      <td>21</td>\n",
       "    </tr>\n",
       "    <tr>\n",
       "      <th>3</th>\n",
       "      <td>1</td>\n",
       "      <td>0</td>\n",
       "      <td>137</td>\n",
       "      <td>40</td>\n",
       "      <td>35</td>\n",
       "      <td>168</td>\n",
       "      <td>43.1</td>\n",
       "      <td>2.288</td>\n",
       "      <td>33</td>\n",
       "    </tr>\n",
       "    <tr>\n",
       "      <th>4</th>\n",
       "      <td>0</td>\n",
       "      <td>5</td>\n",
       "      <td>116</td>\n",
       "      <td>74</td>\n",
       "      <td>0</td>\n",
       "      <td>0</td>\n",
       "      <td>25.6</td>\n",
       "      <td>0.201</td>\n",
       "      <td>30</td>\n",
       "    </tr>\n",
       "  </tbody>\n",
       "</table>\n",
       "</div>"
      ],
      "text/plain": [
       "   diabetes  times_pregnant  glucose_conc  diastolic_BP  triceps_thk  \\\n",
       "0         0               1            85            66           29   \n",
       "1         1               8           183            64            0   \n",
       "2         0               1            89            66           23   \n",
       "3         1               0           137            40           35   \n",
       "4         0               5           116            74            0   \n",
       "\n",
       "   2_hr_insulin   bmi  pedigree  age  \n",
       "0             0  26.6     0.351   31  \n",
       "1             0  23.3     0.672   32  \n",
       "2            94  28.1     0.167   21  \n",
       "3           168  43.1     2.288   33  \n",
       "4             0  25.6     0.201   30  "
      ]
     },
     "execution_count": 18,
     "metadata": {},
     "output_type": "execute_result"
    }
   ],
   "source": [
    "diabetes.head()"
   ]
  },
  {
   "cell_type": "markdown",
   "metadata": {},
   "source": [
    "##### Part - 2\n",
    "- Check if the value for 'glucose_conc' is less than 100.\n",
    "- Create a new column named 'prediction'.\n",
    "- If the glucose_conc level is less than 100 then your prediction for that row will be 0 otherwise 1.\n"
   ]
  },
  {
   "cell_type": "code",
   "execution_count": 19,
   "metadata": {},
   "outputs": [
    {
     "name": "stdout",
     "output_type": "stream",
     "text": [
      "<class 'pandas.core.frame.DataFrame'>\n",
      "RangeIndex: 767 entries, 0 to 766\n",
      "Data columns (total 9 columns):\n",
      " #   Column          Non-Null Count  Dtype  \n",
      "---  ------          --------------  -----  \n",
      " 0   diabetes        767 non-null    int64  \n",
      " 1   times_pregnant  767 non-null    int64  \n",
      " 2   glucose_conc    767 non-null    int64  \n",
      " 3   diastolic_BP    767 non-null    int64  \n",
      " 4   triceps_thk     767 non-null    int64  \n",
      " 5   2_hr_insulin    767 non-null    int64  \n",
      " 6   bmi             767 non-null    float64\n",
      " 7   pedigree        767 non-null    float64\n",
      " 8   age             767 non-null    int64  \n",
      "dtypes: float64(2), int64(7)\n",
      "memory usage: 54.1 KB\n"
     ]
    }
   ],
   "source": [
    "diabetes.info()"
   ]
  },
  {
   "cell_type": "code",
   "execution_count": 20,
   "metadata": {},
   "outputs": [],
   "source": [
    "# create a list by condition\n",
    "predictions = [0 if i < 100 else 1 for i in diabetes['glucose_conc'] ]"
   ]
  },
  {
   "cell_type": "code",
   "execution_count": 21,
   "metadata": {},
   "outputs": [
    {
     "data": {
      "text/html": [
       "<div>\n",
       "<style scoped>\n",
       "    .dataframe tbody tr th:only-of-type {\n",
       "        vertical-align: middle;\n",
       "    }\n",
       "\n",
       "    .dataframe tbody tr th {\n",
       "        vertical-align: top;\n",
       "    }\n",
       "\n",
       "    .dataframe thead th {\n",
       "        text-align: right;\n",
       "    }\n",
       "</style>\n",
       "<table border=\"1\" class=\"dataframe\">\n",
       "  <thead>\n",
       "    <tr style=\"text-align: right;\">\n",
       "      <th></th>\n",
       "      <th>diabetes</th>\n",
       "      <th>times_pregnant</th>\n",
       "      <th>glucose_conc</th>\n",
       "      <th>diastolic_BP</th>\n",
       "      <th>triceps_thk</th>\n",
       "      <th>2_hr_insulin</th>\n",
       "      <th>bmi</th>\n",
       "      <th>pedigree</th>\n",
       "      <th>age</th>\n",
       "      <th>prediction</th>\n",
       "    </tr>\n",
       "  </thead>\n",
       "  <tbody>\n",
       "    <tr>\n",
       "      <th>0</th>\n",
       "      <td>0</td>\n",
       "      <td>1</td>\n",
       "      <td>85</td>\n",
       "      <td>66</td>\n",
       "      <td>29</td>\n",
       "      <td>0</td>\n",
       "      <td>26.6</td>\n",
       "      <td>0.351</td>\n",
       "      <td>31</td>\n",
       "      <td>0</td>\n",
       "    </tr>\n",
       "    <tr>\n",
       "      <th>1</th>\n",
       "      <td>1</td>\n",
       "      <td>8</td>\n",
       "      <td>183</td>\n",
       "      <td>64</td>\n",
       "      <td>0</td>\n",
       "      <td>0</td>\n",
       "      <td>23.3</td>\n",
       "      <td>0.672</td>\n",
       "      <td>32</td>\n",
       "      <td>1</td>\n",
       "    </tr>\n",
       "    <tr>\n",
       "      <th>2</th>\n",
       "      <td>0</td>\n",
       "      <td>1</td>\n",
       "      <td>89</td>\n",
       "      <td>66</td>\n",
       "      <td>23</td>\n",
       "      <td>94</td>\n",
       "      <td>28.1</td>\n",
       "      <td>0.167</td>\n",
       "      <td>21</td>\n",
       "      <td>0</td>\n",
       "    </tr>\n",
       "    <tr>\n",
       "      <th>3</th>\n",
       "      <td>1</td>\n",
       "      <td>0</td>\n",
       "      <td>137</td>\n",
       "      <td>40</td>\n",
       "      <td>35</td>\n",
       "      <td>168</td>\n",
       "      <td>43.1</td>\n",
       "      <td>2.288</td>\n",
       "      <td>33</td>\n",
       "      <td>1</td>\n",
       "    </tr>\n",
       "    <tr>\n",
       "      <th>4</th>\n",
       "      <td>0</td>\n",
       "      <td>5</td>\n",
       "      <td>116</td>\n",
       "      <td>74</td>\n",
       "      <td>0</td>\n",
       "      <td>0</td>\n",
       "      <td>25.6</td>\n",
       "      <td>0.201</td>\n",
       "      <td>30</td>\n",
       "      <td>1</td>\n",
       "    </tr>\n",
       "  </tbody>\n",
       "</table>\n",
       "</div>"
      ],
      "text/plain": [
       "   diabetes  times_pregnant  glucose_conc  diastolic_BP  triceps_thk  \\\n",
       "0         0               1            85            66           29   \n",
       "1         1               8           183            64            0   \n",
       "2         0               1            89            66           23   \n",
       "3         1               0           137            40           35   \n",
       "4         0               5           116            74            0   \n",
       "\n",
       "   2_hr_insulin   bmi  pedigree  age  prediction  \n",
       "0             0  26.6     0.351   31           0  \n",
       "1             0  23.3     0.672   32           1  \n",
       "2            94  28.1     0.167   21           0  \n",
       "3           168  43.1     2.288   33           1  \n",
       "4             0  25.6     0.201   30           1  "
      ]
     },
     "execution_count": 21,
     "metadata": {},
     "output_type": "execute_result"
    }
   ],
   "source": [
    "# create a new column and fill with the list\n",
    "diabetes['prediction'] = predictions\n",
    "diabetes.head()"
   ]
  },
  {
   "cell_type": "markdown",
   "metadata": {},
   "source": [
    "##### Part - 3\n",
    "Write the content of the 'Diabetes.csv' file along with 'prediction' values into a new file named 'Diabetes-with-predictions.csv'"
   ]
  },
  {
   "cell_type": "code",
   "execution_count": 22,
   "metadata": {},
   "outputs": [],
   "source": [
    "diabetes.to_csv('Diabetes-with-predictions.csv')"
   ]
  },
  {
   "cell_type": "markdown",
   "metadata": {},
   "source": [
    "### *BONUS* Challenge: Diabetes\n",
    "- From the above file, find the min and max age.\n",
    "- Create six intervals based on age (e.g. 11 to 20, 21 to 30 etc.) including both min and max age found earlier.\n",
    "- For each age interval compute the average 'glucose_conc'.\n",
    "- Write your computed data into a new file named 'average_glucose_by_age.csv'. This file should have two columns 'age_interval' and 'avg_glucose_conc'"
   ]
  },
  {
   "cell_type": "code",
   "execution_count": 23,
   "metadata": {},
   "outputs": [
    {
     "name": "stdout",
     "output_type": "stream",
     "text": [
      "The min age in the dataset is 21.\n"
     ]
    }
   ],
   "source": [
    "min_age = diabetes['age'].min()\n",
    "print (f'The min age in the dataset is {min_age}.')"
   ]
  },
  {
   "cell_type": "code",
   "execution_count": 24,
   "metadata": {},
   "outputs": [
    {
     "name": "stdout",
     "output_type": "stream",
     "text": [
      "The max age in the dataset is 81.\n"
     ]
    }
   ],
   "source": [
    "max_age = diabetes['age'].max()\n",
    "print (f'The max age in the dataset is {max_age}.')"
   ]
  },
  {
   "cell_type": "code",
   "execution_count": 25,
   "metadata": {},
   "outputs": [
    {
     "data": {
      "text/plain": [
       "int"
      ]
     },
     "execution_count": 25,
     "metadata": {},
     "output_type": "execute_result"
    }
   ],
   "source": [
    "type(max_age)"
   ]
  },
  {
   "cell_type": "code",
   "execution_count": 26,
   "metadata": {},
   "outputs": [
    {
     "data": {
      "text/html": [
       "<div>\n",
       "<style scoped>\n",
       "    .dataframe tbody tr th:only-of-type {\n",
       "        vertical-align: middle;\n",
       "    }\n",
       "\n",
       "    .dataframe tbody tr th {\n",
       "        vertical-align: top;\n",
       "    }\n",
       "\n",
       "    .dataframe thead th {\n",
       "        text-align: right;\n",
       "    }\n",
       "</style>\n",
       "<table border=\"1\" class=\"dataframe\">\n",
       "  <thead>\n",
       "    <tr style=\"text-align: right;\">\n",
       "      <th></th>\n",
       "      <th>age</th>\n",
       "      <th>glucose_conc</th>\n",
       "    </tr>\n",
       "  </thead>\n",
       "  <tbody>\n",
       "    <tr>\n",
       "      <th>0</th>\n",
       "      <td>31</td>\n",
       "      <td>85</td>\n",
       "    </tr>\n",
       "    <tr>\n",
       "      <th>1</th>\n",
       "      <td>32</td>\n",
       "      <td>183</td>\n",
       "    </tr>\n",
       "  </tbody>\n",
       "</table>\n",
       "</div>"
      ],
      "text/plain": [
       "   age  glucose_conc\n",
       "0   31            85\n",
       "1   32           183"
      ]
     },
     "execution_count": 26,
     "metadata": {},
     "output_type": "execute_result"
    }
   ],
   "source": [
    "# slice out a new dataframe with age and glucose_conc info\n",
    "glucose_by_age = diabetes[['age','glucose_conc']]\n",
    "glucose_by_age.head(2)"
   ]
  },
  {
   "cell_type": "code",
   "execution_count": 27,
   "metadata": {},
   "outputs": [
    {
     "name": "stdout",
     "output_type": "stream",
     "text": [
      "<class 'pandas.core.frame.DataFrame'>\n",
      "RangeIndex: 767 entries, 0 to 766\n",
      "Data columns (total 2 columns):\n",
      " #   Column        Non-Null Count  Dtype\n",
      "---  ------        --------------  -----\n",
      " 0   age           767 non-null    int64\n",
      " 1   glucose_conc  767 non-null    int64\n",
      "dtypes: int64(2)\n",
      "memory usage: 12.1 KB\n"
     ]
    }
   ],
   "source": [
    "glucose_by_age.info()"
   ]
  },
  {
   "cell_type": "code",
   "execution_count": 28,
   "metadata": {},
   "outputs": [
    {
     "data": {
      "text/plain": [
       "0      (20.94, 31.0]\n",
       "1       (31.0, 41.0]\n",
       "2      (20.94, 31.0]\n",
       "3       (31.0, 41.0]\n",
       "4      (20.94, 31.0]\n",
       "           ...      \n",
       "762     (61.0, 71.0]\n",
       "763    (20.94, 31.0]\n",
       "764    (20.94, 31.0]\n",
       "765     (41.0, 51.0]\n",
       "766    (20.94, 31.0]\n",
       "Name: age, Length: 767, dtype: category\n",
       "Categories (6, interval[float64]): [(20.94, 31.0] < (31.0, 41.0] < (41.0, 51.0] < (51.0, 61.0] < (61.0, 71.0] < (71.0, 81.0]]"
      ]
     },
     "execution_count": 28,
     "metadata": {},
     "output_type": "execute_result"
    }
   ],
   "source": [
    "# create 6 intervals of given age range\n",
    "age_interval = pd.cut(glucose_by_age['age'], bins = 6)\n",
    "age_interval"
   ]
  },
  {
   "cell_type": "code",
   "execution_count": 29,
   "metadata": {},
   "outputs": [],
   "source": [
    "# to avoid error messsage in the new python version\n",
    "pd.options.mode.chained_assignment = None "
   ]
  },
  {
   "cell_type": "code",
   "execution_count": 30,
   "metadata": {},
   "outputs": [],
   "source": [
    "# append the dataframe with a new column\n",
    "glucose_by_age['age_interval'] = age_interval"
   ]
  },
  {
   "cell_type": "code",
   "execution_count": 31,
   "metadata": {},
   "outputs": [
    {
     "data": {
      "text/html": [
       "<div>\n",
       "<style scoped>\n",
       "    .dataframe tbody tr th:only-of-type {\n",
       "        vertical-align: middle;\n",
       "    }\n",
       "\n",
       "    .dataframe tbody tr th {\n",
       "        vertical-align: top;\n",
       "    }\n",
       "\n",
       "    .dataframe thead th {\n",
       "        text-align: right;\n",
       "    }\n",
       "</style>\n",
       "<table border=\"1\" class=\"dataframe\">\n",
       "  <thead>\n",
       "    <tr style=\"text-align: right;\">\n",
       "      <th></th>\n",
       "      <th>age</th>\n",
       "      <th>glucose_conc</th>\n",
       "      <th>age_interval</th>\n",
       "    </tr>\n",
       "  </thead>\n",
       "  <tbody>\n",
       "    <tr>\n",
       "      <th>0</th>\n",
       "      <td>31</td>\n",
       "      <td>85</td>\n",
       "      <td>(20.94, 31.0]</td>\n",
       "    </tr>\n",
       "    <tr>\n",
       "      <th>1</th>\n",
       "      <td>32</td>\n",
       "      <td>183</td>\n",
       "      <td>(31.0, 41.0]</td>\n",
       "    </tr>\n",
       "    <tr>\n",
       "      <th>2</th>\n",
       "      <td>21</td>\n",
       "      <td>89</td>\n",
       "      <td>(20.94, 31.0]</td>\n",
       "    </tr>\n",
       "    <tr>\n",
       "      <th>3</th>\n",
       "      <td>33</td>\n",
       "      <td>137</td>\n",
       "      <td>(31.0, 41.0]</td>\n",
       "    </tr>\n",
       "    <tr>\n",
       "      <th>4</th>\n",
       "      <td>30</td>\n",
       "      <td>116</td>\n",
       "      <td>(20.94, 31.0]</td>\n",
       "    </tr>\n",
       "  </tbody>\n",
       "</table>\n",
       "</div>"
      ],
      "text/plain": [
       "   age  glucose_conc   age_interval\n",
       "0   31            85  (20.94, 31.0]\n",
       "1   32           183   (31.0, 41.0]\n",
       "2   21            89  (20.94, 31.0]\n",
       "3   33           137   (31.0, 41.0]\n",
       "4   30           116  (20.94, 31.0]"
      ]
     },
     "execution_count": 31,
     "metadata": {},
     "output_type": "execute_result"
    }
   ],
   "source": [
    "glucose_by_age.head()"
   ]
  },
  {
   "cell_type": "code",
   "execution_count": 32,
   "metadata": {},
   "outputs": [
    {
     "data": {
      "text/html": [
       "<div>\n",
       "<style scoped>\n",
       "    .dataframe tbody tr th:only-of-type {\n",
       "        vertical-align: middle;\n",
       "    }\n",
       "\n",
       "    .dataframe tbody tr th {\n",
       "        vertical-align: top;\n",
       "    }\n",
       "\n",
       "    .dataframe thead th {\n",
       "        text-align: right;\n",
       "    }\n",
       "</style>\n",
       "<table border=\"1\" class=\"dataframe\">\n",
       "  <thead>\n",
       "    <tr style=\"text-align: right;\">\n",
       "      <th></th>\n",
       "      <th>glucose_conc</th>\n",
       "    </tr>\n",
       "    <tr>\n",
       "      <th>age_interval</th>\n",
       "      <th></th>\n",
       "    </tr>\n",
       "  </thead>\n",
       "  <tbody>\n",
       "    <tr>\n",
       "      <th>(20.94, 31.0]</th>\n",
       "      <td>114.870748</td>\n",
       "    </tr>\n",
       "    <tr>\n",
       "      <th>(31.0, 41.0]</th>\n",
       "      <td>126.470968</td>\n",
       "    </tr>\n",
       "    <tr>\n",
       "      <th>(41.0, 51.0]</th>\n",
       "      <td>125.561224</td>\n",
       "    </tr>\n",
       "    <tr>\n",
       "      <th>(51.0, 61.0]</th>\n",
       "      <td>140.187500</td>\n",
       "    </tr>\n",
       "    <tr>\n",
       "      <th>(61.0, 71.0]</th>\n",
       "      <td>137.000000</td>\n",
       "    </tr>\n",
       "  </tbody>\n",
       "</table>\n",
       "</div>"
      ],
      "text/plain": [
       "               glucose_conc\n",
       "age_interval               \n",
       "(20.94, 31.0]    114.870748\n",
       "(31.0, 41.0]     126.470968\n",
       "(41.0, 51.0]     125.561224\n",
       "(51.0, 61.0]     140.187500\n",
       "(61.0, 71.0]     137.000000"
      ]
     },
     "execution_count": 32,
     "metadata": {},
     "output_type": "execute_result"
    }
   ],
   "source": [
    "# take average of glucose concentration by age group\n",
    "glucose_by_age = pd.DataFrame(glucose_by_age.groupby('age_interval')['glucose_conc'].mean())\n",
    "glucose_by_age.head()"
   ]
  },
  {
   "cell_type": "code",
   "execution_count": 33,
   "metadata": {},
   "outputs": [],
   "source": [
    "glucose_by_age.reset_index(inplace=True)"
   ]
  },
  {
   "cell_type": "code",
   "execution_count": 34,
   "metadata": {},
   "outputs": [],
   "source": [
    "glucose_by_age.rename(columns = {'glucose_conc':'avg_glucose_conc'},inplace=True)"
   ]
  },
  {
   "cell_type": "code",
   "execution_count": 35,
   "metadata": {},
   "outputs": [
    {
     "data": {
      "text/html": [
       "<div>\n",
       "<style scoped>\n",
       "    .dataframe tbody tr th:only-of-type {\n",
       "        vertical-align: middle;\n",
       "    }\n",
       "\n",
       "    .dataframe tbody tr th {\n",
       "        vertical-align: top;\n",
       "    }\n",
       "\n",
       "    .dataframe thead th {\n",
       "        text-align: right;\n",
       "    }\n",
       "</style>\n",
       "<table border=\"1\" class=\"dataframe\">\n",
       "  <thead>\n",
       "    <tr style=\"text-align: right;\">\n",
       "      <th></th>\n",
       "      <th>age_interval</th>\n",
       "      <th>avg_glucose_conc</th>\n",
       "    </tr>\n",
       "  </thead>\n",
       "  <tbody>\n",
       "    <tr>\n",
       "      <th>0</th>\n",
       "      <td>(20.94, 31.0]</td>\n",
       "      <td>114.870748</td>\n",
       "    </tr>\n",
       "    <tr>\n",
       "      <th>1</th>\n",
       "      <td>(31.0, 41.0]</td>\n",
       "      <td>126.470968</td>\n",
       "    </tr>\n",
       "    <tr>\n",
       "      <th>2</th>\n",
       "      <td>(41.0, 51.0]</td>\n",
       "      <td>125.561224</td>\n",
       "    </tr>\n",
       "    <tr>\n",
       "      <th>3</th>\n",
       "      <td>(51.0, 61.0]</td>\n",
       "      <td>140.187500</td>\n",
       "    </tr>\n",
       "    <tr>\n",
       "      <th>4</th>\n",
       "      <td>(61.0, 71.0]</td>\n",
       "      <td>137.000000</td>\n",
       "    </tr>\n",
       "    <tr>\n",
       "      <th>5</th>\n",
       "      <td>(71.0, 81.0]</td>\n",
       "      <td>126.500000</td>\n",
       "    </tr>\n",
       "  </tbody>\n",
       "</table>\n",
       "</div>"
      ],
      "text/plain": [
       "    age_interval  avg_glucose_conc\n",
       "0  (20.94, 31.0]        114.870748\n",
       "1   (31.0, 41.0]        126.470968\n",
       "2   (41.0, 51.0]        125.561224\n",
       "3   (51.0, 61.0]        140.187500\n",
       "4   (61.0, 71.0]        137.000000\n",
       "5   (71.0, 81.0]        126.500000"
      ]
     },
     "execution_count": 35,
     "metadata": {},
     "output_type": "execute_result"
    }
   ],
   "source": [
    "glucose_by_age"
   ]
  },
  {
   "cell_type": "code",
   "execution_count": 36,
   "metadata": {},
   "outputs": [],
   "source": [
    "glucose_by_age.to_csv('average_glucose_by_age.csv')"
   ]
  }
 ],
 "metadata": {
  "anaconda-cloud": {},
  "kernelspec": {
   "display_name": "Python 3",
   "language": "python",
   "name": "python3"
  },
  "language_info": {
   "codemirror_mode": {
    "name": "ipython",
    "version": 3
   },
   "file_extension": ".py",
   "mimetype": "text/x-python",
   "name": "python",
   "nbconvert_exporter": "python",
   "pygments_lexer": "ipython3",
   "version": "3.7.4"
  },
  "varInspector": {
   "cols": {
    "lenName": 16,
    "lenType": 16,
    "lenVar": 40
   },
   "kernels_config": {
    "python": {
     "delete_cmd_postfix": "",
     "delete_cmd_prefix": "del ",
     "library": "var_list.py",
     "varRefreshCmd": "print(var_dic_list())"
    },
    "r": {
     "delete_cmd_postfix": ") ",
     "delete_cmd_prefix": "rm(",
     "library": "var_list.r",
     "varRefreshCmd": "cat(var_dic_list()) "
    }
   },
   "types_to_exclude": [
    "module",
    "function",
    "builtin_function_or_method",
    "instance",
    "_Feature"
   ],
   "window_display": false
  }
 },
 "nbformat": 4,
 "nbformat_minor": 4
}
